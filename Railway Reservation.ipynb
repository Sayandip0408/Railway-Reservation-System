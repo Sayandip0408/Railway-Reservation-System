{
 "cells": [
  {
   "cell_type": "code",
   "execution_count": 1,
   "metadata": {},
   "outputs": [],
   "source": [
    "from tkinter import *\n",
    "    "
   ]
  },
  {
   "cell_type": "code",
   "execution_count": 4,
   "metadata": {},
   "outputs": [],
   "source": [
    "def welcome():\n",
    "    windows=Tk()\n",
    "    windows.title(\"Welcome\")\n",
    "    windows.geometry('1366x768')\n",
    "    windows.configure(bg=\"LIGHT BLUE\")\n",
    "    lbl1=Label(windows, text=\"RAILWAY TICKET BOOKING\",bg=\"blue\",fg=\"black\",font=(\"Times New Roman bold\",30))\n",
    "    lbl1.pack(side=TOP,fill=X)\n",
    "    lbl2=Label(windows,text=\"Login Successful..\",bg=\"light blue\",fg=\"green\",font=(\"Times New Roman\",20))\n",
    "    lbl2.place(x=10,y=90)\n",
    "    lbl3=Label(windows,text=\"***NOW YOU CAN USE RAILWAY TICKETS BOOKING FACILITIES***\",bg=\"yellow\",font=(\"Times New Roman\",15))\n",
    "    lbl3.place(x=10,y=150)\n",
    "    def clicked2():\n",
    "        windows.destroy()\n",
    "        #book()\n",
    "    btn2=Button(windows,width=20, text=\"Book Tickets\",bg=\"blue\",fg=\"black\",font=(\"Times New Roman bold\",10),borderwidth=5,relief=SUNKEN,command=clicked2)\n",
    "    btn2.place(x=10,y=200)\n",
    "    btn3=Button(windows,width=20, text=\"Show Tickets\",bg=\"blue\",fg=\"black\",font=(\"Times New Roman bold\",10),borderwidth=5,relief=SUNKEN,command=clicked2)\n",
    "    btn3.place(x=10,y=250)\n",
    "    \n",
    "    windows.mainloop()"
   ]
  },
  {
   "cell_type": "code",
   "execution_count": 3,
   "metadata": {},
   "outputs": [],
   "source": []
  },
  {
   "cell_type": "code",
   "execution_count": null,
   "metadata": {
    "scrolled": false
   },
   "outputs": [],
   "source": []
  },
  {
   "cell_type": "code",
   "execution_count": 2,
   "metadata": {},
   "outputs": [
    {
     "ename": "NameError",
     "evalue": "name 'Tk' is not defined",
     "output_type": "error",
     "traceback": [
      "\u001b[1;31m---------------------------------------------------------------------------\u001b[0m",
      "\u001b[1;31mNameError\u001b[0m                                 Traceback (most recent call last)",
      "\u001b[1;32m<ipython-input-2-d715cca8903b>\u001b[0m in \u001b[0;36m<module>\u001b[1;34m\u001b[0m\n\u001b[0;32m     34\u001b[0m     \u001b[0mbtn1\u001b[0m\u001b[1;33m.\u001b[0m\u001b[0mplace\u001b[0m\u001b[1;33m(\u001b[0m\u001b[0mx\u001b[0m\u001b[1;33m=\u001b[0m\u001b[1;36m630\u001b[0m\u001b[1;33m,\u001b[0m\u001b[0my\u001b[0m\u001b[1;33m=\u001b[0m\u001b[1;36m290\u001b[0m\u001b[1;33m)\u001b[0m\u001b[1;33m\u001b[0m\u001b[1;33m\u001b[0m\u001b[0m\n\u001b[0;32m     35\u001b[0m     \u001b[0mwindows\u001b[0m\u001b[1;33m.\u001b[0m\u001b[0mmainloop\u001b[0m\u001b[1;33m(\u001b[0m\u001b[1;33m)\u001b[0m\u001b[1;33m\u001b[0m\u001b[1;33m\u001b[0m\u001b[0m\n\u001b[1;32m---> 36\u001b[1;33m \u001b[0mlogin\u001b[0m\u001b[1;33m(\u001b[0m\u001b[1;33m)\u001b[0m\u001b[1;33m\u001b[0m\u001b[1;33m\u001b[0m\u001b[0m\n\u001b[0m",
      "\u001b[1;32m<ipython-input-2-d715cca8903b>\u001b[0m in \u001b[0;36mlogin\u001b[1;34m()\u001b[0m\n\u001b[0;32m      1\u001b[0m \u001b[1;32mdef\u001b[0m \u001b[0mlogin\u001b[0m\u001b[1;33m(\u001b[0m\u001b[1;33m)\u001b[0m\u001b[1;33m:\u001b[0m\u001b[1;33m\u001b[0m\u001b[1;33m\u001b[0m\u001b[0m\n\u001b[1;32m----> 2\u001b[1;33m     \u001b[0mwindows\u001b[0m\u001b[1;33m=\u001b[0m\u001b[0mTk\u001b[0m\u001b[1;33m(\u001b[0m\u001b[1;33m)\u001b[0m\u001b[1;33m\u001b[0m\u001b[1;33m\u001b[0m\u001b[0m\n\u001b[0m\u001b[0;32m      3\u001b[0m     \u001b[0mwindows\u001b[0m\u001b[1;33m.\u001b[0m\u001b[0mtitle\u001b[0m\u001b[1;33m(\u001b[0m\u001b[1;34m\"ONLINE TICKET BOOKING APPLICATION\"\u001b[0m\u001b[1;33m)\u001b[0m\u001b[1;33m\u001b[0m\u001b[1;33m\u001b[0m\u001b[0m\n\u001b[0;32m      4\u001b[0m     \u001b[0mwindows\u001b[0m\u001b[1;33m.\u001b[0m\u001b[0mgeometry\u001b[0m\u001b[1;33m(\u001b[0m\u001b[1;34m'1366x768'\u001b[0m\u001b[1;33m)\u001b[0m\u001b[1;33m\u001b[0m\u001b[1;33m\u001b[0m\u001b[0m\n\u001b[0;32m      5\u001b[0m     \u001b[0mwindows\u001b[0m\u001b[1;33m.\u001b[0m\u001b[0mconfigure\u001b[0m\u001b[1;33m(\u001b[0m\u001b[0mbg\u001b[0m\u001b[1;33m=\u001b[0m\u001b[1;34m\"LIGHT BLUE\"\u001b[0m\u001b[1;33m)\u001b[0m\u001b[1;33m\u001b[0m\u001b[1;33m\u001b[0m\u001b[0m\n",
      "\u001b[1;31mNameError\u001b[0m: name 'Tk' is not defined"
     ]
    }
   ],
   "source": [
    "def login():\n",
    "    windows=Tk()\n",
    "    windows.title(\"ONLINE TICKET BOOKING APPLICATION\")\n",
    "    windows.geometry('1366x768')\n",
    "    windows.configure(bg=\"LIGHT BLUE\")\n",
    "    lbl1=Label(windows, text=\"RAILWAY TICKET BOOKING\",bg=\"blue\",fg=\"black\",font=(\"Times New Roman bold\",30))\n",
    "    lbl1.pack(side=TOP,fill=X)\n",
    "    lbl2=Label(windows,text=\"SEAT RESERVATION SYSTEM LMAO\",bg=\"LIGHT BLUE\",font=(\"Times New Roman\",20))\n",
    "    lbl2.place(x=520,y=70)\n",
    "    lbl3=Label(windows,text=\"***Please, login if you have already registered***\",bg=\"yellow\",font=(\"Times New Roman\",15))\n",
    "    lbl3.place(x=520,y=130)\n",
    "    lbl4=Label(windows,text=\"Username\",bg=\"LIGHT BLUE\",font=(\"Times New Roman\",15))\n",
    "    lbl4.place(x=520,y=180)\n",
    "    ent1=Entry(windows,width=20,borderwidth=3,relief=SUNKEN)\n",
    "    ent1.place(x=630,y=180)\n",
    "    lbl5=Label(windows,text=\"Password\",bg=\"LIGHT BLUE\",font=(\"Times New Roman\",15))\n",
    "    lbl5.place(x=520,y=210)\n",
    "    ent2=Entry(windows,width=20,borderwidth=3,relief=SUNKEN)\n",
    "    ent2.place(x=630,y=210)\n",
    "    lbl6=Label(windows,text=\"*New User?\",bg=\"LIGHT BLUE\",fg=\"red\",font=(\"Times New Roman\",13))\n",
    "    lbl6.place(x=535,y=290)\n",
    "    def clicked():\n",
    "        if ent1.get()=='admin' and ent2.get()=='1234':\n",
    "            windows.destroy()\n",
    "            welcome()\n",
    "        else:\n",
    "            windows.destroy()\n",
    "            fail()\n",
    "    btn=Button(windows,width=15, text=\"Log in\",bg=\"blue\",fg=\"white\",font=(\"Times New Roman bold\",10),borderwidth=5,relief=SUNKEN,command=clicked)\n",
    "    btn.place(x=630,y=245)\n",
    "    def clicked1():\n",
    "        print(\"Not ready\")\n",
    "    btn1=Button(windows,width=8, text=\"Register\",bg=\"blue\",fg=\"white\",font=(\"Times New Roman bold\",10),borderwidth=5,relief=SUNKEN,command=clicked1)\n",
    "    btn1.place(x=630,y=290)\n",
    "    windows.mainloop()\n",
    "login()"
   ]
  },
  {
   "cell_type": "code",
   "execution_count": null,
   "metadata": {},
   "outputs": [],
   "source": []
  },
  {
   "cell_type": "code",
   "execution_count": null,
   "metadata": {},
   "outputs": [],
   "source": []
  }
 ],
 "metadata": {
  "kernelspec": {
   "display_name": "Python 3",
   "language": "python",
   "name": "python3"
  },
  "language_info": {
   "codemirror_mode": {
    "name": "ipython",
    "version": 3
   },
   "file_extension": ".py",
   "mimetype": "text/x-python",
   "name": "python",
   "nbconvert_exporter": "python",
   "pygments_lexer": "ipython3",
   "version": "3.7.3"
  }
 },
 "nbformat": 4,
 "nbformat_minor": 2
}
